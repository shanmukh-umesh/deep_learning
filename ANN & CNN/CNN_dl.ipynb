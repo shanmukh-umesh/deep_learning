{
 "cells": [
  {
   "cell_type": "code",
   "execution_count": 1,
   "id": "9fb3fceb-592a-4eb9-9a98-9e265bb7ad0c",
   "metadata": {},
   "outputs": [],
   "source": [
    "# cnn model for image classification\n",
    "from tensorflow.keras import layers,models,datasets\n",
    "import tensorflow as tf\n",
    "import numpy as np\n",
    "import matplotlib.pyplot as plt"
   ]
  },
  {
   "cell_type": "markdown",
   "id": "4b9cb5df-2a9b-4e87-9091-62d7176a15e7",
   "metadata": {},
   "source": [
    "### 1.CNN for CIFAR10 Dataset"
   ]
  },
  {
   "cell_type": "code",
   "execution_count": 2,
   "id": "33dab47c-be64-4b5a-906c-4be1700a4201",
   "metadata": {},
   "outputs": [
    {
     "name": "stdout",
     "output_type": "stream",
     "text": [
      "Downloading data from https://www.cs.toronto.edu/~kriz/cifar-10-python.tar.gz\n",
      "\u001b[1m170498071/170498071\u001b[0m \u001b[32m━━━━━━━━━━━━━━━━━━━━\u001b[0m\u001b[37m\u001b[0m \u001b[1m100s\u001b[0m 1us/step\n"
     ]
    }
   ],
   "source": [
    "(x_train,y_train),(x_test,y_test) = datasets.cifar10.load_data()"
   ]
  },
  {
   "cell_type": "code",
   "execution_count": 3,
   "id": "bf793056-496b-4b9e-8dd2-c4416484305d",
   "metadata": {},
   "outputs": [
    {
     "data": {
      "text/plain": [
       "50000"
      ]
     },
     "execution_count": 3,
     "metadata": {},
     "output_type": "execute_result"
    }
   ],
   "source": [
    "len(x_train)"
   ]
  },
  {
   "cell_type": "code",
   "execution_count": 9,
   "id": "11f2a3e1-380c-400b-bc21-7dfeb94ec61e",
   "metadata": {},
   "outputs": [
    {
     "data": {
      "text/plain": [
       "(50000, 1)"
      ]
     },
     "execution_count": 9,
     "metadata": {},
     "output_type": "execute_result"
    }
   ],
   "source": [
    "y_train.shape"
   ]
  },
  {
   "cell_type": "code",
   "execution_count": 10,
   "id": "73bb7d35-77d6-4ea0-bdad-8106e0928d3f",
   "metadata": {},
   "outputs": [
    {
     "data": {
      "text/plain": [
       "array([[6],\n",
       "       [9],\n",
       "       [9],\n",
       "       [4],\n",
       "       [1]], dtype=uint8)"
      ]
     },
     "execution_count": 10,
     "metadata": {},
     "output_type": "execute_result"
    }
   ],
   "source": [
    "y_train[:5]"
   ]
  },
  {
   "cell_type": "code",
   "execution_count": 11,
   "id": "1d616fe7-f6f3-4f6e-8f81-0e83ecc16f49",
   "metadata": {},
   "outputs": [
    {
     "data": {
      "text/plain": [
       "array([6, 9, 9, 4, 1], dtype=uint8)"
      ]
     },
     "execution_count": 11,
     "metadata": {},
     "output_type": "execute_result"
    }
   ],
   "source": [
    "# convert into 1 d array\n",
    "y_train = y_train.reshape(-1,) \n",
    "y_train[:5]"
   ]
  },
  {
   "cell_type": "code",
   "execution_count": 12,
   "id": "43e5a904-cb72-49f4-8282-83dfb0c39c28",
   "metadata": {},
   "outputs": [],
   "source": [
    "classes = [\"airplane\",\"automobile\",\"bird\",\"cat\" ,\"deer\" ,\"dog\" ,\"frog\" ,\"horse\", \"ship\",\"truck\"]"
   ]
  },
  {
   "cell_type": "code",
   "execution_count": 15,
   "id": "6199e823-b6bd-41d6-ae46-c5b925a2c311",
   "metadata": {},
   "outputs": [],
   "source": [
    "def plot_image(x,y,index):\n",
    "    plt.figure(figsize=(15,2))\n",
    "    plt.imshow(x[index])\n",
    "    plt.xlabel(classes[y[index]])"
   ]
  },
  {
   "cell_type": "code",
   "execution_count": 16,
   "id": "8027e139-dcd1-4785-96e5-44e16cc2e2f1",
   "metadata": {},
   "outputs": [
    {
     "data": {
      "image/png": "[encoded data removed]",
      "text/plain": [
       "<Figure size 1500x200 with 1 Axes>"
      ]
     },
     "metadata": {},
     "output_type": "display_data"
    }
   ],
   "source": [
    "plot_image(x_train,y_train,3)"
   ]
  },
  {
   "cell_type": "code",
   "execution_count": 17,
   "id": "40543ac6-34ff-447b-a72c-e95c0aa26258",
   "metadata": {},
   "outputs": [],
   "source": [
    "# normalize data\n",
    "x_train = x_train / 255\n",
    "x_test = x_test / 255"
   ]
  },
  {
   "cell_type": "code",
   "execution_count": 28,
   "id": "f3e94667-d440-47f4-8f46-a6b16981d400",
   "metadata": {},
   "outputs": [],
   "source": [
    "# train using ann\n",
    "model = tf.keras.Sequential()\n",
    "\n",
    "model.add(layers.Flatten(input_shape=(32,32,3)))\n",
    "\n",
    "model.add(layers.Dense(3000,activation='relu'))\n",
    "model.add(layers.Dense(1000,activation='relu'))\n",
    "model.add(layers.Dense(10,activation='sigmoid'))\n",
    "\n",
    "model.compile(\n",
    "    optimizer='SGD',\n",
    "    loss = 'sparse_categorical_crossentropy',\n",
    "    metrics=['accuracy']\n",
    ")"
   ]
  },
  {
   "cell_type": "code",
   "execution_count": 29,
   "id": "299005d3-f54b-49d3-83ec-33e78c2cfae5",
   "metadata": {},
   "outputs": [
    {
     "name": "stdout",
     "output_type": "stream",
     "text": [
      "Epoch 1/5\n",
      "\u001b[1m1563/1563\u001b[0m \u001b[32m━━━━━━━━━━━━━━━━━━━━\u001b[0m\u001b[37m\u001b[0m \u001b[1m58s\u001b[0m 37ms/step - accuracy: 0.3025 - loss: 1.9372\n",
      "Epoch 2/5\n",
      "\u001b[1m1563/1563\u001b[0m \u001b[32m━━━━━━━━━━━━━━━━━━━━\u001b[0m\u001b[37m\u001b[0m \u001b[1m48s\u001b[0m 31ms/step - accuracy: 0.4188 - loss: 1.6462\n",
      "Epoch 3/5\n",
      "\u001b[1m1563/1563\u001b[0m \u001b[32m━━━━━━━━━━━━━━━━━━━━\u001b[0m\u001b[37m\u001b[0m \u001b[1m48s\u001b[0m 31ms/step - accuracy: 0.4490 - loss: 1.5567\n",
      "Epoch 4/5\n",
      "\u001b[1m1563/1563\u001b[0m \u001b[32m━━━━━━━━━━━━━━━━━━━━\u001b[0m\u001b[37m\u001b[0m \u001b[1m50s\u001b[0m 32ms/step - accuracy: 0.4776 - loss: 1.4887\n",
      "Epoch 5/5\n",
      "\u001b[1m1563/1563\u001b[0m \u001b[32m━━━━━━━━━━━━━━━━━━━━\u001b[0m\u001b[37m\u001b[0m \u001b[1m57s\u001b[0m 36ms/step - accuracy: 0.4884 - loss: 1.4410\n"
     ]
    },
    {
     "data": {
      "text/plain": [
       "<keras.src.callbacks.history.History at 0x26d3536a120>"
      ]
     },
     "execution_count": 29,
     "metadata": {},
     "output_type": "execute_result"
    }
   ],
   "source": [
    "model.fit(x_train,y_train,epochs = 5)"
   ]
  },
  {
   "cell_type": "code",
   "execution_count": 33,
   "id": "323068bf-2c0a-4ae7-a6fc-4e503952dc24",
   "metadata": {},
   "outputs": [],
   "source": [
    "y_test = y_test.reshape(-1,)"
   ]
  },
  {
   "cell_type": "code",
   "execution_count": 35,
   "id": "14d2dd93-fa50-4cd3-871f-88319a7db4d0",
   "metadata": {},
   "outputs": [
    {
     "data": {
      "text/plain": [
       "array([3, 8, 8, ..., 5, 1, 7], dtype=uint8)"
      ]
     },
     "execution_count": 35,
     "metadata": {},
     "output_type": "execute_result"
    }
   ],
   "source": [
    "y_test"
   ]
  },
  {
   "cell_type": "code",
   "execution_count": 37,
   "id": "94d5f916-1aaf-49e3-8cde-29f0b8f8265c",
   "metadata": {},
   "outputs": [
    {
     "name": "stdout",
     "output_type": "stream",
     "text": [
      "\u001b[1m313/313\u001b[0m \u001b[32m━━━━━━━━━━━━━━━━━━━━\u001b[0m\u001b[37m\u001b[0m \u001b[1m2s\u001b[0m 7ms/step - accuracy: 0.4594 - loss: 1.5250\n"
     ]
    },
    {
     "data": {
      "text/plain": [
       "[1.525543212890625, 0.45660001039505005]"
      ]
     },
     "execution_count": 37,
     "metadata": {},
     "output_type": "execute_result"
    }
   ],
   "source": [
    "model.evaluate(x_test,y_test)"
   ]
  },
  {
   "cell_type": "code",
   "execution_count": 40,
   "id": "f8e9c125-eb30-47c2-9c6d-76ad88e5aeda",
   "metadata": {},
   "outputs": [
    {
     "name": "stdout",
     "output_type": "stream",
     "text": [
      "\u001b[1m313/313\u001b[0m \u001b[32m━━━━━━━━━━━━━━━━━━━━\u001b[0m\u001b[37m\u001b[0m \u001b[1m2s\u001b[0m 5ms/step\n",
      "              precision    recall  f1-score   support\n",
      "\n",
      "           0       0.50      0.61      0.55      1000\n",
      "           1       0.36      0.85      0.51      1000\n",
      "           2       0.45      0.24      0.32      1000\n",
      "           3       0.38      0.25      0.30      1000\n",
      "           4       0.51      0.32      0.39      1000\n",
      "           5       0.32      0.52      0.39      1000\n",
      "           6       0.58      0.42      0.49      1000\n",
      "           7       0.69      0.41      0.51      1000\n",
      "           8       0.65      0.56      0.60      1000\n",
      "           9       0.52      0.38      0.44      1000\n",
      "\n",
      "    accuracy                           0.46     10000\n",
      "   macro avg       0.49      0.46      0.45     10000\n",
      "weighted avg       0.49      0.46      0.45     10000\n",
      "\n"
     ]
    }
   ],
   "source": [
    "from sklearn.metrics import classification_report\n",
    "y_pred = model.predict(x_test)\n",
    "y_pred_labels = [np.argmax(i) for i in y_pred]\n",
    "print(classification_report(y_test,y_pred_labels))"
   ]
  },
  {
   "cell_type": "code",
   "execution_count": 43,
   "id": "0fc1e524-b586-45e2-a834-ae35372d400e",
   "metadata": {},
   "outputs": [
    {
     "name": "stderr",
     "output_type": "stream",
     "text": [
      "C:\\Users\\Admin\\AppData\\Local\\Programs\\Python\\Python312\\Lib\\site-packages\\keras\\src\\layers\\convolutional\\base_conv.py:107: UserWarning: Do not pass an `input_shape`/`input_dim` argument to a layer. When using Sequential models, prefer using an `Input(shape)` object as the first layer in the model instead.\n",
      "  super().__init__(activity_regularizer=activity_regularizer, **kwargs)\n"
     ]
    }
   ],
   "source": [
    "# using convolution networks\n",
    "cnn = tf.keras.models.Sequential([\n",
    "    # cnn\n",
    "    layers.Conv2D(filters=32, kernel_size = (3,3) , activation = 'relu' , input_shape = (32,32,3)),\n",
    "    layers.MaxPool2D((2,2)),\n",
    "\n",
    "    layers.Conv2D(filters=64, kernel_size = (3,3) , activation = 'relu'),\n",
    "    layers.MaxPool2D((2,2)),\n",
    "\n",
    "    #dense layers \n",
    "    # no need to define shae of flatten\n",
    "    layers.Flatten(),\n",
    "    layers.Dense(64,activation='relu'),\n",
    "    layers.Dense(10,activation='softmax')\n",
    "])\n",
    "\n",
    "cnn.compile(optimizer = 'adam',\n",
    "            loss = 'sparse_categorical_crossentropy',\n",
    "            metrics=['accuracy']\n",
    "           )"
   ]
  },
  {
   "cell_type": "code",
   "execution_count": 44,
   "id": "36111a78-9b73-4ee4-8428-8374e4973143",
   "metadata": {},
   "outputs": [
    {
     "name": "stdout",
     "output_type": "stream",
     "text": [
      "Epoch 1/10\n",
      "\u001b[1m1563/1563\u001b[0m \u001b[32m━━━━━━━━━━━━━━━━━━━━\u001b[0m\u001b[37m\u001b[0m \u001b[1m20s\u001b[0m 12ms/step - accuracy: 0.3460 - loss: 1.7681\n",
      "Epoch 2/10\n",
      "\u001b[1m1563/1563\u001b[0m \u001b[32m━━━━━━━━━━━━━━━━━━━━\u001b[0m\u001b[37m\u001b[0m \u001b[1m19s\u001b[0m 12ms/step - accuracy: 0.5879 - loss: 1.1680\n",
      "Epoch 3/10\n",
      "\u001b[1m1563/1563\u001b[0m \u001b[32m━━━━━━━━━━━━━━━━━━━━\u001b[0m\u001b[37m\u001b[0m \u001b[1m20s\u001b[0m 13ms/step - accuracy: 0.6455 - loss: 1.0205\n",
      "Epoch 4/10\n",
      "\u001b[1m1563/1563\u001b[0m \u001b[32m━━━━━━━━━━━━━━━━━━━━\u001b[0m\u001b[37m\u001b[0m \u001b[1m20s\u001b[0m 13ms/step - accuracy: 0.6776 - loss: 0.9259\n",
      "Epoch 5/10\n",
      "\u001b[1m1563/1563\u001b[0m \u001b[32m━━━━━━━━━━━━━━━━━━━━\u001b[0m\u001b[37m\u001b[0m \u001b[1m20s\u001b[0m 13ms/step - accuracy: 0.7021 - loss: 0.8637\n",
      "Epoch 6/10\n",
      "\u001b[1m1563/1563\u001b[0m \u001b[32m━━━━━━━━━━━━━━━━━━━━\u001b[0m\u001b[37m\u001b[0m \u001b[1m20s\u001b[0m 13ms/step - accuracy: 0.7187 - loss: 0.8101\n",
      "Epoch 7/10\n",
      "\u001b[1m1563/1563\u001b[0m \u001b[32m━━━━━━━━━━━━━━━━━━━━\u001b[0m\u001b[37m\u001b[0m \u001b[1m20s\u001b[0m 13ms/step - accuracy: 0.7335 - loss: 0.7632\n",
      "Epoch 8/10\n",
      "\u001b[1m1563/1563\u001b[0m \u001b[32m━━━━━━━━━━━━━━━━━━━━\u001b[0m\u001b[37m\u001b[0m \u001b[1m20s\u001b[0m 13ms/step - accuracy: 0.7504 - loss: 0.7137\n",
      "Epoch 9/10\n",
      "\u001b[1m1563/1563\u001b[0m \u001b[32m━━━━━━━━━━━━━━━━━━━━\u001b[0m\u001b[37m\u001b[0m \u001b[1m20s\u001b[0m 13ms/step - accuracy: 0.7580 - loss: 0.6870\n",
      "Epoch 10/10\n",
      "\u001b[1m1563/1563\u001b[0m \u001b[32m━━━━━━━━━━━━━━━━━━━━\u001b[0m\u001b[37m\u001b[0m \u001b[1m20s\u001b[0m 13ms/step - accuracy: 0.7806 - loss: 0.6326\n"
     ]
    },
    {
     "data": {
      "text/plain": [
       "<keras.src.callbacks.history.History at 0x26cd02f9bb0>"
      ]
     },
     "execution_count": 44,
     "metadata": {},
     "output_type": "execute_result"
    }
   ],
   "source": [
    "cnn.fit(x_train,y_train,epochs = 10)"
   ]
  },
  {
   "cell_type": "code",
   "execution_count": 45,
   "id": "f0ed1ff3-211f-4da0-b032-ef63a464ddaf",
   "metadata": {},
   "outputs": [
    {
     "name": "stdout",
     "output_type": "stream",
     "text": [
      "\u001b[1m313/313\u001b[0m \u001b[32m━━━━━━━━━━━━━━━━━━━━\u001b[0m\u001b[37m\u001b[0m \u001b[1m2s\u001b[0m 5ms/step - accuracy: 0.6988 - loss: 0.9056\n"
     ]
    },
    {
     "data": {
      "text/plain": [
       "[0.9013094902038574, 0.6988999843597412]"
      ]
     },
     "execution_count": 45,
     "metadata": {},
     "output_type": "execute_result"
    }
   ],
   "source": [
    "cnn.evaluate(x_test,y_test)"
   ]
  },
  {
   "cell_type": "markdown",
   "id": "bf50186e-06e8-4a7c-8fac-59f5617e1e95",
   "metadata": {},
   "source": [
    "Good accuracy when compared to ann "
   ]
  },
  {
   "cell_type": "code",
   "execution_count": 46,
   "id": "c3d06635-6750-4281-8ba1-03c3e55d9263",
   "metadata": {},
   "outputs": [
    {
     "name": "stdout",
     "output_type": "stream",
     "text": [
      "\u001b[1m313/313\u001b[0m \u001b[32m━━━━━━━━━━━━━━━━━━━━\u001b[0m\u001b[37m\u001b[0m \u001b[1m2s\u001b[0m 5ms/step\n",
      "              precision    recall  f1-score   support\n",
      "\n",
      "           0       0.72      0.75      0.73      1000\n",
      "           1       0.84      0.80      0.82      1000\n",
      "           2       0.63      0.54      0.58      1000\n",
      "           3       0.50      0.54      0.52      1000\n",
      "           4       0.62      0.69      0.65      1000\n",
      "           5       0.66      0.51      0.57      1000\n",
      "           6       0.68      0.84      0.75      1000\n",
      "           7       0.76      0.74      0.75      1000\n",
      "           8       0.77      0.84      0.80      1000\n",
      "           9       0.83      0.74      0.78      1000\n",
      "\n",
      "    accuracy                           0.70     10000\n",
      "   macro avg       0.70      0.70      0.70     10000\n",
      "weighted avg       0.70      0.70      0.70     10000\n",
      "\n"
     ]
    }
   ],
   "source": [
    "y_pred = cnn.predict(x_test)\n",
    "y_classes = [np.argmax(i) for i in y_pred]\n",
    "print(classification_report(y_test,y_classes))"
   ]
  },
  {
   "cell_type": "markdown",
   "id": "ce4dae8d-8a47-44c4-af68-d004686c9b1e",
   "metadata": {},
   "source": [
    "Improved F-score when compared to ann"
   ]
  },
  {
   "cell_type": "markdown",
   "id": "c7ff4a1b-bbbb-4f56-8c71-c7a4c2fa90f9",
   "metadata": {},
   "source": [
    "### 2.CNN for MNIST dataser"
   ]
  },
  {
   "cell_type": "code",
   "execution_count": 49,
   "id": "aff542cc-c3ba-459b-ae74-b743d2ac38f8",
   "metadata": {},
   "outputs": [],
   "source": [
    "(x_train,y_train),(x_test,y_test) = datasets.mnist.load_data()"
   ]
  },
  {
   "cell_type": "code",
   "execution_count": 50,
   "id": "dc616ce9-9917-4cc2-ba69-e42e709d65ad",
   "metadata": {},
   "outputs": [],
   "source": [
    "x_train = x_train / 255\n",
    "x_test = x_test / 255"
   ]
  },
  {
   "cell_type": "code",
   "execution_count": 53,
   "id": "3310ea89-74d5-4858-b6b0-42e57febb4d0",
   "metadata": {},
   "outputs": [
    {
     "data": {
      "text/plain": [
       "(60000, 28, 28)"
      ]
     },
     "execution_count": 53,
     "metadata": {},
     "output_type": "execute_result"
    }
   ],
   "source": [
    "x_train.shape"
   ]
  },
  {
   "cell_type": "code",
   "execution_count": 56,
   "id": "2270eddd-334a-4415-bbd2-64f19afbf3f1",
   "metadata": {},
   "outputs": [],
   "source": [
    "x_train = x_train.reshape(len(x_train),28,28,1)\n",
    "x_test = x_test.reshape(len(x_test),28,28,1)"
   ]
  },
  {
   "cell_type": "code",
   "execution_count": 57,
   "id": "5df882ad-82e4-4dfa-8bc1-5bbd2bd25870",
   "metadata": {},
   "outputs": [
    {
     "data": {
      "text/plain": [
       "(60000, 28, 28, 1)"
      ]
     },
     "execution_count": 57,
     "metadata": {},
     "output_type": "execute_result"
    }
   ],
   "source": [
    "x_train.shape"
   ]
  },
  {
   "cell_type": "code",
   "execution_count": 59,
   "id": "31ac349d-7e0b-4fc3-a08c-eda6a2ef5572",
   "metadata": {},
   "outputs": [],
   "source": [
    "digit_model = models.Sequential([\n",
    "    #cnn \n",
    "    layers.Conv2D(filters = 30 , kernel_size = (3,3), activation = 'relu',input_shape = (28,28,1) ),\n",
    "    layers.MaxPool2D((2,2)),\n",
    "\n",
    "    layers.Conv2D(filters = 10 , kernel_size = (3,3) , activation = 'relu'),\n",
    "    layers.MaxPool2D((2,2)),\n",
    "\n",
    "    # dense\n",
    "    layers.Flatten(),\n",
    "    layers.Dense(10,activation='sigmoid')\n",
    "])\n",
    "\n",
    "digit_model.compile(\n",
    "    optimizer = 'adam',\n",
    "    loss = 'sparse_categorical_crossentropy',\n",
    "    metrics= ['accuracy']\n",
    ")"
   ]
  },
  {
   "cell_type": "code",
   "execution_count": 60,
   "id": "41cae6e3-a625-4528-afd6-bd19e1975949",
   "metadata": {},
   "outputs": [
    {
     "name": "stdout",
     "output_type": "stream",
     "text": [
      "Epoch 1/5\n",
      "\u001b[1m1875/1875\u001b[0m \u001b[32m━━━━━━━━━━━━━━━━━━━━\u001b[0m\u001b[37m\u001b[0m \u001b[1m10s\u001b[0m 5ms/step - accuracy: 0.8194 - loss: 0.5914\n",
      "Epoch 2/5\n",
      "\u001b[1m1875/1875\u001b[0m \u001b[32m━━━━━━━━━━━━━━━━━━━━\u001b[0m\u001b[37m\u001b[0m \u001b[1m10s\u001b[0m 5ms/step - accuracy: 0.9721 - loss: 0.0920\n",
      "Epoch 3/5\n",
      "\u001b[1m1875/1875\u001b[0m \u001b[32m━━━━━━━━━━━━━━━━━━━━\u001b[0m\u001b[37m\u001b[0m \u001b[1m10s\u001b[0m 5ms/step - accuracy: 0.9790 - loss: 0.0671\n",
      "Epoch 4/5\n",
      "\u001b[1m1875/1875\u001b[0m \u001b[32m━━━━━━━━━━━━━━━━━━━━\u001b[0m\u001b[37m\u001b[0m \u001b[1m10s\u001b[0m 6ms/step - accuracy: 0.9818 - loss: 0.0603\n",
      "Epoch 5/5\n",
      "\u001b[1m1875/1875\u001b[0m \u001b[32m━━━━━━━━━━━━━━━━━━━━\u001b[0m\u001b[37m\u001b[0m \u001b[1m11s\u001b[0m 6ms/step - accuracy: 0.9844 - loss: 0.0499\n"
     ]
    },
    {
     "data": {
      "text/plain": [
       "<keras.src.callbacks.history.History at 0x26d33a7e240>"
      ]
     },
     "execution_count": 60,
     "metadata": {},
     "output_type": "execute_result"
    }
   ],
   "source": [
    "digit_model.fit(x_train,y_train,epochs = 5)"
   ]
  },
  {
   "cell_type": "code",
   "execution_count": 61,
   "id": "4f2b8a82-e110-49d6-8a0f-d6c1ac5e513c",
   "metadata": {},
   "outputs": [
    {
     "name": "stdout",
     "output_type": "stream",
     "text": [
      "\u001b[1m313/313\u001b[0m \u001b[32m━━━━━━━━━━━━━━━━━━━━\u001b[0m\u001b[37m\u001b[0m \u001b[1m1s\u001b[0m 3ms/step - accuracy: 0.9812 - loss: 0.0597\n"
     ]
    },
    {
     "data": {
      "text/plain": [
       "[0.04720186069607735, 0.9847000241279602]"
      ]
     },
     "execution_count": 61,
     "metadata": {},
     "output_type": "execute_result"
    }
   ],
   "source": [
    "digit_model.evaluate(x_test,y_test)"
   ]
  },
  {
   "cell_type": "code",
   "execution_count": 63,
   "id": "9bcc22c0-6897-40bd-ac5d-c370feaf42a1",
   "metadata": {},
   "outputs": [
    {
     "name": "stdout",
     "output_type": "stream",
     "text": [
      "\u001b[1m313/313\u001b[0m \u001b[32m━━━━━━━━━━━━━━━━━━━━\u001b[0m\u001b[37m\u001b[0m \u001b[1m1s\u001b[0m 2ms/step\n"
     ]
    }
   ],
   "source": [
    "y_pred = digit_model.predict(x_test)\n",
    "y_pred_names = [np.argmax(i) for i in y_pred]\n",
    "from sklearn.metrics import confusion_matrix\n",
    "cm = confusion_matrix(y_true = y_test , y_pred = y_pred_names)"
   ]
  },
  {
   "cell_type": "code",
   "execution_count": 68,
   "id": "db61f4d5-da54-4090-b862-4126d6ddc4de",
   "metadata": {},
   "outputs": [
    {
     "data": {
      "text/plain": [
       "Text(50.722222222222214, 0.5, 'Truth')"
      ]
     },
     "execution_count": 68,
     "metadata": {},
     "output_type": "execute_result"
    },
    {
     "data": {
      "image/png": "[encoded data removed]",
      "text/plain": [
       "<Figure size 640x480 with 2 Axes>"
      ]
     },
     "metadata": {},
     "output_type": "display_data"
    }
   ],
   "source": [
    "import seaborn as sns\n",
    "sns.heatmap(cm, annot=True , fmt='d')\n",
    "plt.xlabel('Predictions')\n",
    "plt.ylabel('Truth')"
   ]
  },
  {
   "cell_type": "code",
   "execution_count": null,
   "id": "cbe7be6b-50f7-449f-9a3c-3fb5697b919e",
   "metadata": {},
   "outputs": [],
   "source": []
  }
 ],
 "metadata": {
  "kernelspec": {
   "display_name": "Python 3 (ipykernel)",
   "language": "python",
   "name": "python3"
  },
  "language_info": {
   "codemirror_mode": {
    "name": "ipython",
    "version": 3
   },
   "file_extension": ".py",
   "mimetype": "text/x-python",
   "name": "python",
   "nbconvert_exporter": "python",
   "pygments_lexer": "ipython3",
   "version": "3.12.5"
  }
 },
 "nbformat": 4,
 "nbformat_minor": 5
}
